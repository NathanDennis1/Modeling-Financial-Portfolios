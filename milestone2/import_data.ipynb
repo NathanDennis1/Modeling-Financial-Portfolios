{
 "cells": [
  {
   "cell_type": "code",
   "execution_count": 4,
   "metadata": {},
   "outputs": [],
   "source": [
    "import pandas as pd\n",
    "import sqlite3\n",
    "import matplotlib.pyplot as plt\n",
    "import seaborn as sns\n",
    "import numpy as np"
   ]
  },
  {
   "cell_type": "code",
   "execution_count": 5,
   "metadata": {},
   "outputs": [
    {
     "name": "stderr",
     "output_type": "stream",
     "text": [
      "/var/folders/c0/jfh1p3f53dg3c5jwvx1gfvx80000gs/T/ipykernel_47760/1608248957.py:13: DtypeWarning: Columns (5,9,11) have mixed types. Specify dtype option on import or set low_memory=False.\n",
      "  data = pd.read_csv(filepath, sep='\\t')\n"
     ]
    },
    {
     "name": "stdout",
     "output_type": "stream",
     "text": [
      "<sqlite3.Cursor object at 0x1172e3340>\n"
     ]
    }
   ],
   "source": [
    "file_dir = 'data/01jun2024-31aug2024_form13f/'\n",
    "timeframe = '2024-Q3'\n",
    "table_names = [\n",
    "    \"COVERPAGE\", \"INFOTABLE\", \"OTHERMANAGER\", \n",
    "    \"OTHERMANAGER2\",\"SIGNATURE\", \"SUBMISSION\", \"SUMMARYPAGE\"]\n",
    "\n",
    "conn = sqlite3.connect('FORM13F.db')\n",
    "cursor = conn.cursor()\n",
    "\n",
    "for table_name in table_names:\n",
    "    filepath = f\"{file_dir}{table_name}.tsv\"\n",
    "    tname = f\"{table_name}-{timeframe}\"\n",
    "    data = pd.read_csv(filepath, sep='\\t')\n",
    "    data.to_sql(tname, conn, if_exists='replace', index=False)\n",
    "\n",
    "# get all the tablenames in the database\n",
    "print(pd.read_sql(\"SELECT name FROM sqlite_master WHERE type='table';\"))\n",
    "conn.close()"
   ]
  }
 ],
 "metadata": {
  "kernelspec": {
   "display_name": "env",
   "language": "python",
   "name": "python3"
  },
  "language_info": {
   "codemirror_mode": {
    "name": "ipython",
    "version": 3
   },
   "file_extension": ".py",
   "mimetype": "text/x-python",
   "name": "python",
   "nbconvert_exporter": "python",
   "pygments_lexer": "ipython3",
   "version": "3.12.6"
  }
 },
 "nbformat": 4,
 "nbformat_minor": 2
}

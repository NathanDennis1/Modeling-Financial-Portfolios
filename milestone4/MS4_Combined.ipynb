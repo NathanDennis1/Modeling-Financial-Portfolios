{
 "cells": [
  {
   "cell_type": "markdown",
   "metadata": {},
   "source": [
    "**Table of contents**<a id='toc0_'></a>    \n",
    "- [Milestone 4](#toc1_)    \n",
    "  - [Problem Statement](#toc1_1_)    \n",
    "  - [Exploratory Data Analysis](#toc1_2_)    \n",
    "  - [Base Models](#toc1_3_)    \n",
    "    - [Linear Regression](#toc1_3_1_)    \n",
    "    - [Decision Tree](#toc1_3_2_)    \n",
    "    - [Random Forest](#toc1_3_3_)    \n",
    "    - [Gradient Boosting](#toc1_3_4_)    \n",
    "\n",
    "<!-- vscode-jupyter-toc-config\n",
    "\tnumbering=false\n",
    "\tanchor=true\n",
    "\tflat=false\n",
    "\tminLevel=1\n",
    "\tmaxLevel=6\n",
    "\t/vscode-jupyter-toc-config -->\n",
    "<!-- THIS CELL WILL BE REPLACED ON TOC UPDATE. DO NOT WRITE YOUR TEXT IN THIS CELL -->"
   ]
  },
  {
   "cell_type": "markdown",
   "metadata": {},
   "source": [
    "# <a id='toc1_'></a>[Milestone 4](#toc0_)"
   ]
  },
  {
   "cell_type": "code",
   "execution_count": null,
   "metadata": {},
   "outputs": [],
   "source": [
    "from utils import *\n",
    "import numpy as np\n",
    "import pandas as pd\n",
    "import matplotlib.pyplot as plt\n",
    "import seaborn as sns"
   ]
  },
  {
   "cell_type": "markdown",
   "metadata": {},
   "source": [
    "## <a id='toc1_1_'></a>[Problem Statement](#toc0_)\n",
    "\n",
    "## <a id='toc1_2_'></a>[Exploratory Data Analysis](#toc0_)\n",
    "\n",
    "## <a id='toc1_3_'></a>[Base Models](#toc0_)\n",
    "\n",
    "### <a id='toc1_3_1_'></a>[Linear Regression](#toc0_)\n",
    "\n",
    "### <a id='toc1_3_2_'></a>[Decision Tree](#toc0_)\n",
    "\n",
    "### <a id='toc1_3_3_'></a>[Random Forest](#toc0_)\n",
    "\n",
    "### <a id='toc1_3_4_'></a>[Gradient Boosting](#toc0_)"
   ]
  }
 ],
 "metadata": {
  "kernelspec": {
   "display_name": "env",
   "language": "python",
   "name": "python3"
  },
  "language_info": {
   "name": "python",
   "version": "3.12.6"
  }
 },
 "nbformat": 4,
 "nbformat_minor": 2
}
